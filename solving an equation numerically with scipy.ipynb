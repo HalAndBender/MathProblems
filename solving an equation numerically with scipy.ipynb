{
 "cells": [
  {
   "cell_type": "code",
   "execution_count": 3,
   "metadata": {
    "collapsed": true
   },
   "outputs": [
    {
     "name": "stderr",
     "output_type": "stream",
     "text": [
      "/Users/stephangoldberg/Library/Python/3.6/lib/python/site-packages/ipykernel_launcher.py:10: RuntimeWarning: invalid value encountered in true_divide\n  # Remove the CWD from sys.path while we load stuff.\n"
     ]
    },
    {
     "data": {
      "image/png": "[encoded data removed]",
      "text/plain": [
       "<matplotlib.figure.Figure at 0x1088b1a20>"
      ]
     },
     "metadata": {},
     "output_type": "display_data"
    },
    {
     "name": "stdout",
     "output_type": "stream",
     "text": [
      "The solution is tau =  [ 1.02165125]\nat which the value of the expression is [ -2.22044605e-16]\n"
     ]
    }
   ],
   "source": [
    "import numpy as np\n",
    "import matplotlib.pyplot as plt\n",
    "from scipy.optimize import fsolve\n",
    "\n",
    "# Define the expression whose roots we want to find\n",
    "\n",
    "a = 0.5\n",
    "R = 1.6\n",
    "\n",
    "func = lambda tau : R - ((1.0 - np.exp(-tau))/(1.0 - np.exp(-a*tau))) \n",
    "\n",
    "# Plot it\n",
    "\n",
    "tau = np.linspace(-0.5, 1.5, 201)\n",
    "\n",
    "plt.plot(tau, func(tau))\n",
    "plt.xlabel(\"tau\")\n",
    "plt.ylabel(\"expression value\")\n",
    "plt.grid()\n",
    "plt.show()\n",
    "\n",
    "# Use the numerical solver to find the roots\n",
    "\n",
    "tau_initial_guess = 0.5\n",
    "tau_solution = fsolve(func, tau_initial_guess)\n",
    "\n",
    "print (\"The solution is tau = \",  tau_solution)\n",
    "print (\"at which the value of the expression is\", func(tau_solution))"
   ]
  },
  {
   "cell_type": "code",
   "execution_count": 3,
   "metadata": {},
   "outputs": [],
   "source": [
    ""
   ]
  },
  {
   "cell_type": "code",
   "execution_count": null,
   "metadata": {},
   "outputs": [],
   "source": [
    ""
   ]
  }
 ],
 "metadata": {
  "kernelspec": {
   "display_name": "Python 2",
   "language": "python",
   "name": "python2"
  },
  "language_info": {
   "codemirror_mode": {
    "name": "ipython",
    "version": 2.0
   },
   "file_extension": ".py",
   "mimetype": "text/x-python",
   "name": "python",
   "nbconvert_exporter": "python",
   "pygments_lexer": "ipython2",
   "version": "2.7.6"
  }
 },
 "nbformat": 4,
 "nbformat_minor": 0
}