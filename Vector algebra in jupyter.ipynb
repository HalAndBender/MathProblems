{
 "cells": [
  {
   "cell_type": "code",
   "execution_count": null,
   "metadata": {
    "collapsed": true
   },
   "outputs": [],
   "source": [
    "import numpy as np\n",
    "import math"
   ]
  },
  {
   "cell_type": "code",
   "execution_count": null,
   "metadata": {},
   "outputs": [
    {
     "name": "stdout",
     "output_type": "stream",
     "text": [
      "vector x: [-2  2  1]\n",
      "vector y: [ 0  1 -1]\n",
      "\n"
     ]
    }
   ],
   "source": [
    "# Defining Two vectors\n",
    "x = np.array([-3, 2, 1])\n",
    "y = np.array([0, 1, -1])\n",
    "print ('vector x:', x)\n",
    "print ('vector y:', y)\n",
    "print('')"
   ]
  },
  {
   "cell_type": "code",
   "execution_count": null,
   "metadata": {},
   "outputs": [
    {
     "name": "stdout",
     "output_type": "stream",
     "text": [
      "The sum:\n",
      "[-2  3  0]\n",
      " \n"
     ]
    }
   ],
   "source": [
    "# The sum of two vectors:\n",
    "print('The sum:')\n",
    "print(x+y)\n",
    "print(' ')"
   ]
  },
  {
   "cell_type": "code",
   "execution_count": 24,
   "metadata": {},
   "outputs": [
    {
     "name": "stdout",
     "output_type": "stream",
     "text": [
      "The cross product:\n",
      "[-3 -2 -2]\n",
      " \n"
     ]
    }
   ],
   "source": [
    "#The cross product of the two vectors:\n",
    "print ('The cross product:')\n",
    "print (np.cross(x, y))\n",
    "print(' ')"
   ]
  },
  {
   "cell_type": "code",
   "execution_count": 25,
   "metadata": {},
   "outputs": [
    {
     "name": "stdout",
     "output_type": "stream",
     "text": [
      "The magnitude of x:\n",
      "3.0\n",
      "\n"
     ]
    }
   ],
   "source": [
    "#The magnitude of a vector:\n",
    "print('The magnitude of x:')\n",
    "print(np.linalg.norm(x))\n",
    "print('')"
   ]
  },
  {
   "cell_type": "code",
   "execution_count": 26,
   "metadata": {},
   "outputs": [
    {
     "name": "stdout",
     "output_type": "stream",
     "text": [
      "the dot product of x and y:\n",
      "1\n",
      "\n"
     ]
    }
   ],
   "source": [
    "# Dot product of x and y:\n",
    "print('the dot product of x and y:')\n",
    "print(np.dot(x,y))\n",
    "print('')"
   ]
  },
  {
   "cell_type": "code",
   "execution_count": 27,
   "metadata": {},
   "outputs": [
    {
     "name": "stdout",
     "output_type": "stream",
     "text": [
      " The angle between in radians\n",
      "1.3328552019646884\n",
      "\n"
     ]
    }
   ],
   "source": [
    "#angle between two vectors with math package (in radians)\n",
    "def dotproduct(v1, v2):\n",
    "  return sum((a*b) for a, b in zip(v1, v2))\n",
    "\n",
    "def magnitude(v):\n",
    "  return math.sqrt(dotproduct(v, v))\n",
    "\n",
    "def angle(v1, v2):\n",
    "  return math.acos(dotproduct(v1, v2) / (magnitude(v1) * magnitude(v2)))\n",
    "print (' The angle between in radians')\n",
    "print(angle(x,y))\n",
    "print('')"
   ]
  },
  {
   "cell_type": "code",
   "execution_count": 28,
   "metadata": {},
   "outputs": [
    {
     "name": "stdout",
     "output_type": "stream",
     "text": [
      " The angle between in radians\n",
      "1.33285520196\n",
      "\n",
      "The angle between in degrees\n",
      "76.3669777746\n",
      "\n"
     ]
    }
   ],
   "source": [
    "#angle between two vectors with numpy package (in radians):\n",
    "def unit_vector(vector):\n",
    "    \"\"\" Returns the unit vector of the vector.  \"\"\"\n",
    "    return vector / np.linalg.norm(vector)\n",
    "def angle_between(v1, v2):\n",
    "    \"\"\" Returns the angle in radians between vectors 'v1' and 'v2'::\"\"\"\n",
    "    v1_u = unit_vector(v1)\n",
    "    v2_u = unit_vector(v2)\n",
    "    return np.arccos(np.clip(np.dot(v1_u, v2_u), -1.0, 1.0))\n",
    "print (' The angle between in radians')\n",
    "print(angle_between(x,y))\n",
    "print('')\n",
    "\n",
    "#angle in degrees\n",
    "print('The angle between in degrees')\n",
    "print(180/np.pi*(angle_between(x,y)))\n",
    "print('')"
   ]
  },
  {
   "cell_type": "code",
   "execution_count": null,
   "metadata": {
    "collapsed": true
   },
   "outputs": [],
   "source": [
    ""
   ]
  },
  {
   "cell_type": "code",
   "execution_count": null,
   "metadata": {
    "collapsed": true
   },
   "outputs": [],
   "source": [
    ""
   ]
  },
  {
   "cell_type": "code",
   "execution_count": null,
   "metadata": {
    "collapsed": true
   },
   "outputs": [],
   "source": [
    ""
   ]
  },
  {
   "cell_type": "code",
   "execution_count": null,
   "metadata": {
    "collapsed": true
   },
   "outputs": [],
   "source": [
    ""
   ]
  }
 ],
 "metadata": {
  "kernelspec": {
   "display_name": "Python 3",
   "language": "python",
   "name": "python3"
  },
  "language_info": {
   "codemirror_mode": {
    "name": "ipython",
    "version": 3.0
   },
   "file_extension": ".py",
   "mimetype": "text/x-python",
   "name": "python",
   "nbconvert_exporter": "python",
   "pygments_lexer": "ipython3",
   "version": "3.6.1"
  }
 },
 "nbformat": 4,
 "nbformat_minor": 0
}